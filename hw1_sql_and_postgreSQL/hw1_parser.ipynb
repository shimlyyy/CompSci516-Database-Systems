{
 "cells": [
  {
   "cell_type": "code",
   "execution_count": 1,
   "metadata": {
    "ExecuteTime": {
     "end_time": "2019-09-14T04:01:44.441050Z",
     "start_time": "2019-09-14T04:01:44.414005Z"
    },
    "code_folding": []
   },
   "outputs": [],
   "source": [
    "import psycopg2\n",
    "import xml.sax\n",
    "\n",
    "class fileHandler(xml.sax.ContentHandler):\n",
    "    def __init__(self) :\n",
    "        self.currentData = \"\"\n",
    "        self.pubkey = \"\"\n",
    "        self.title = \"\"\n",
    "        self.journal = \"\"\n",
    "        self.booktitle = \"\"\n",
    "        self.year = \"\"\n",
    "        self.author = \"\"\n",
    "        self.authorList = []\n",
    "        self.validTag = [\"article\",\"author\",\"inproceedings\",\"title\",\"journal\",\"year\",\"booktitle\"]\n",
    "    #only process article and inproceedings\n",
    "    def startElement(self, tag, attributes):\n",
    "        if tag in self.validTag:\n",
    "            self.currentData = tag\n",
    "            if tag == \"article\" or tag == \"inproceedings\":\n",
    "                self.pubkey = attributes[\"key\"]\n",
    "                self.title = \"\"\n",
    "                self.journal = \"\"\n",
    "                self.booktitle = \"\"\n",
    "                self.year = \"\"\n",
    "                self.author = \"\"\n",
    "                self.authorList = []\n",
    "\n",
    "    def endElement(self,tag):\n",
    "\n",
    "        if tag in self.validTag:\n",
    "            #read author into self.authorList\n",
    "            if tag == \"author\":\n",
    "                self.authorList.append(self.author)\n",
    "                self.author = \"\"\n",
    "            #insert into \"article\" table\n",
    "            if tag==\"article\":\n",
    "                    list1=[self.pubkey,self.title,self.journal,self.year]\n",
    "                    \n",
    "                    for i in range(len(list1)):\n",
    "                          if list1[i]==\"\":\n",
    "                            list1[i]=None\n",
    "                    \n",
    "                    cur.execute('INSERT INTO Article(pubkey,title,journal,year) VALUES (%s,%s,%s,%s)', list1)\n",
    "\n",
    "            #insert into \"inproceedings\" table\n",
    "            if tag==\"inproceedings\":\n",
    "                list2=[self.pubkey,self.title,self.booktitle,self.year]\n",
    "                \n",
    "                for i in range(len(list2)):\n",
    "                      if list2[i]==\"\":\n",
    "                        list2[i]=None\n",
    "                \n",
    "                \n",
    "                cur.execute('INSERT INTO Inproceedings(pubkey,title,booktitle,year)VALUES(%s,%s,%s,%s)', list2)\n",
    "\n",
    "            #insert into \"authorship\" table\n",
    "            if tag==\"article\" or tag==\"inproceedings\":\n",
    "                authorSet = set(self.authorList)\n",
    "                for elem in authorSet:\n",
    "                         list3=(self.pubkey, elem)\n",
    "                         cur.execute('INSERT INTO Authorship(pubkey,author) VALUES (%s,%s)',list3)\n",
    "                \n",
    "        self.currentData = \"\"\n",
    "\n",
    "\n",
    "  #call each time when read character\n",
    "    def characters(self, content):\n",
    "          if self.currentData in self.validTag:\n",
    "                if(self.currentData ==\"title\"):\n",
    "                    self.title = content\n",
    "\n",
    "                if(self.currentData ==\"journal\"):\n",
    "                    self.journal = content\n",
    "\n",
    "                if(self.currentData ==\"booktitle\"):\n",
    "                    self.booktitle = content\n",
    "\n",
    "                if(self.currentData ==\"year\"):\n",
    "                    self.year = content\n",
    "\n",
    "                if(self.currentData ==\"author\"):\n",
    "                    self.author = content\n",
    "\n"
   ]
  },
  {
   "cell_type": "code",
   "execution_count": 2,
   "metadata": {
    "ExecuteTime": {
     "end_time": "2019-09-14T04:33:40.882493Z",
     "start_time": "2019-09-14T04:01:45.516451Z"
    }
   },
   "outputs": [
    {
     "name": "stdout",
     "output_type": "stream",
     "text": [
      "Successfully connect to the database\n",
      "Successfully create tables\n",
      "success\n"
     ]
    }
   ],
   "source": [
    "conn = psycopg2.connect(database=\"dblp\", user=\"dblpuser\",password = \"aptx4869\", host = \"127.0.0.1\", port = \"5432\")\n",
    "print (\" connect to the database\")\n",
    "#Create a cursor\n",
    "cur=conn.cursor()\n",
    "\n",
    "#Create tables\n",
    "cur.execute('CREATE TABLE Article(pubkey varchar PRIMARY KEY, title varchar, journal varchar, year int)')\n",
    "\n",
    "cur.execute('CREATE TABLE Inproceedings(pubkey varchar PRIMARY KEY, title varchar, booktitle varchar, year int)')\n",
    "\n",
    "cur.execute('CREATE TABLE Authorship(pubkey varchar, author varchar, PRIMARY KEY(pubkey,author))')\n",
    "\n",
    "print(\"create tables\")\n",
    "\n",
    "#parse the file\n",
    "parser = xml.sax.make_parser()\n",
    "parser.setFeature(xml.sax.handler.feature_namespaces, 0)\n",
    "handler=fileHandler()\n",
    "parser.setContentHandler(handler)\n",
    "parser.parse(\"dblp-2019-09-05.xml\")\n",
    "print (\"success\")\n",
    "conn.commit()\n",
    "cur.close()\n",
    "conn.close()\n",
    "\n"
   ]
  },
  {
   "cell_type": "code",
   "execution_count": null,
   "metadata": {},
   "outputs": [],
   "source": []
  }
 ],
 "metadata": {
  "kernelspec": {
   "display_name": "Python 3",
   "language": "python",
   "name": "python3"
  },
  "language_info": {
   "codemirror_mode": {
    "name": "ipython",
    "version": 3
   },
   "file_extension": ".py",
   "mimetype": "text/x-python",
   "name": "python",
   "nbconvert_exporter": "python",
   "pygments_lexer": "ipython3",
   "version": "3.7.2"
  },
  "varInspector": {
   "cols": {
    "lenName": 16,
    "lenType": 16,
    "lenVar": 40
   },
   "kernels_config": {
    "python": {
     "delete_cmd_postfix": "",
     "delete_cmd_prefix": "del ",
     "library": "var_list.py",
     "varRefreshCmd": "print(var_dic_list())"
    },
    "r": {
     "delete_cmd_postfix": ") ",
     "delete_cmd_prefix": "rm(",
     "library": "var_list.r",
     "varRefreshCmd": "cat(var_dic_list()) "
    }
   },
   "types_to_exclude": [
    "module",
    "function",
    "builtin_function_or_method",
    "instance",
    "_Feature"
   ],
   "window_display": false
  }
 },
 "nbformat": 4,
 "nbformat_minor": 2
}
